{
 "cells": [
  {
   "cell_type": "code",
   "id": "initial_id",
   "metadata": {
    "collapsed": true,
    "ExecuteTime": {
     "end_time": "2024-08-28T13:31:12.716755Z",
     "start_time": "2024-08-28T13:31:12.674490Z"
    }
   },
   "source": [
    "from Similarity import similarity\n",
    "\n",
    "set1 = \"sairam\"\n",
    "set2 = \"sairam\"\n",
    "\n",
    "sim = similarity()\n",
    "\n",
    "print(sim.jaccard_similarity(set1, set2))\n",
    "print(sim.overlap_coefficient(set1, set2))\n",
    "print(sim.hamming_distance(set1,set2))\n"
   ],
   "outputs": [
    {
     "ename": "AttributeError",
     "evalue": "'similarity' object has no attribute 'jaccard_similarity'",
     "output_type": "error",
     "traceback": [
      "\u001B[1;31m---------------------------------------------------------------------------\u001B[0m",
      "\u001B[1;31mAttributeError\u001B[0m                            Traceback (most recent call last)",
      "Cell \u001B[1;32mIn[8], line 8\u001B[0m\n\u001B[0;32m      4\u001B[0m set2 \u001B[38;5;241m=\u001B[39m \u001B[38;5;124m\"\u001B[39m\u001B[38;5;124msairam\u001B[39m\u001B[38;5;124m\"\u001B[39m\n\u001B[0;32m      6\u001B[0m sim \u001B[38;5;241m=\u001B[39m similarity()\n\u001B[1;32m----> 8\u001B[0m \u001B[38;5;28mprint\u001B[39m(sim\u001B[38;5;241m.\u001B[39mjaccard_similarity(set1, set2))\n\u001B[0;32m      9\u001B[0m \u001B[38;5;28mprint\u001B[39m(sim\u001B[38;5;241m.\u001B[39moverlap_coefficient(set1, set2))\n\u001B[0;32m     10\u001B[0m \u001B[38;5;28mprint\u001B[39m(sim\u001B[38;5;241m.\u001B[39mhamming_distance(set1,set2))\n",
      "\u001B[1;31mAttributeError\u001B[0m: 'similarity' object has no attribute 'jaccard_similarity'"
     ]
    }
   ],
   "execution_count": 8
  },
  {
   "metadata": {},
   "cell_type": "code",
   "outputs": [],
   "execution_count": null,
   "source": "",
   "id": "ff684abeaf5d2a5b"
  }
 ],
 "metadata": {
  "kernelspec": {
   "display_name": "Python 3",
   "language": "python",
   "name": "python3"
  },
  "language_info": {
   "codemirror_mode": {
    "name": "ipython",
    "version": 2
   },
   "file_extension": ".py",
   "mimetype": "text/x-python",
   "name": "python",
   "nbconvert_exporter": "python",
   "pygments_lexer": "ipython2",
   "version": "2.7.6"
  }
 },
 "nbformat": 4,
 "nbformat_minor": 5
}
