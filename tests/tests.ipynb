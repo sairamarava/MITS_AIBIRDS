{
 "cells": [
  {
   "metadata": {},
   "cell_type": "markdown",
   "source": "",
   "id": "676649324bf46f00"
  },
  {
   "metadata": {
    "ExecuteTime": {
     "end_time": "2024-08-28T16:11:11.435079Z",
     "start_time": "2024-08-28T16:10:59.756511Z"
    }
   },
   "cell_type": "code",
   "source": [
    "from similarity_check.Similarity import Similarity\n",
    "\n",
    "sim=Similarity()\n",
    "str1=input(\"Enter String 1:\")\n",
    "str2=input(\"Enter String 2:\")\n",
    "\n",
    "print( \"The Jaccard coefficient between the strings \",str1,\" and \",str2,\" is \", sim.jaccard_coefficient(str1,str2))\n",
    "print(\"The Hamming distance between the strings \",str1,\" and \",str2,\" is \", sim.hamming_distance(str1,str2))\n",
    "print(\"The Overlap Coefficient between the strings \",str1,\" and \",str2,\" is \", sim.overlap_coefficient(str1,str2))\n"
   ],
   "id": "a101366c95fc408f",
   "outputs": [
    {
     "name": "stdout",
     "output_type": "stream",
     "text": [
      "The Jaccard coefficient between the strings  hi  and  huu  is  0.3333333333333333\n",
      "The Hamming distance between the strings  hi  and  huu  is  -1\n",
      "The Overlap Coefficient between the strings  hi  and  huu  is  0.5\n"
     ]
    }
   ],
   "execution_count": 12
  },
  {
   "metadata": {
    "ExecuteTime": {
     "end_time": "2024-08-28T16:05:45.453009Z",
     "start_time": "2024-08-28T16:05:45.437367Z"
    }
   },
   "cell_type": "code",
   "source": "",
   "id": "afeb8e907ef3683a",
   "outputs": [],
   "execution_count": null
  },
  {
   "metadata": {},
   "cell_type": "code",
   "outputs": [],
   "execution_count": null,
   "source": "",
   "id": "9097a59936af7080"
  }
 ],
 "metadata": {
  "kernelspec": {
   "display_name": "Python 3",
   "language": "python",
   "name": "python3"
  },
  "language_info": {
   "codemirror_mode": {
    "name": "ipython",
    "version": 2
   },
   "file_extension": ".py",
   "mimetype": "text/x-python",
   "name": "python",
   "nbconvert_exporter": "python",
   "pygments_lexer": "ipython2",
   "version": "2.7.6"
  }
 },
 "nbformat": 4,
 "nbformat_minor": 5
}
