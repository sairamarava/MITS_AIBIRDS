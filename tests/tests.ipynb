{
 "cells": [
  {
   "cell_type": "code",
   "id": "initial_id",
   "metadata": {
    "collapsed": true,
    "ExecuteTime": {
     "end_time": "2024-08-28T15:58:22.396812Z",
     "start_time": "2024-08-28T15:58:07.193647Z"
    }
   },
   "source": [
    "from similarity_check.Similarity import Similarity\n",
    "\n",
    "sim=Similarity()\n",
    "str1=input(\"Enter String 1:\")\n",
    "str2=input(\"Enter String 2:\")\n",
    "\n",
    "print( \"The Jaccard coefficient between the strings \",str1,\" and \",str2,\" is \", sim.jaccard_coefficient(str1,str2))\n",
    "print(\"The Hamming distance between the strings \",str1,\" and \",str2,\" is \", sim.hamming_distance(str1,str2))\n",
    "print(\"The Overlap Coefficient between the strings \",str1,\" and \",str2,\" is \", sim.overlap_coefficient(str1,str2))\n"
   ],
   "outputs": [
    {
     "name": "stdout",
     "output_type": "stream",
     "text": [
      "The Jaccard coefficient between the strings  Machine Lear  and  Data Science  is  0.46153846153846156\n",
      "The Hamming distance between the strings  Machine Lear  and  Data Science  is  11\n",
      "The Overlap Coefficient between the strings  Machine Lear  and  Data Science  is  0.6666666666666666\n"
     ]
    }
   ],
   "execution_count": 4
  },
  {
   "metadata": {},
   "cell_type": "code",
   "outputs": [],
   "execution_count": null,
   "source": "",
   "id": "ff684abeaf5d2a5b"
  }
 ],
 "metadata": {
  "kernelspec": {
   "display_name": "Python 3",
   "language": "python",
   "name": "python3"
  },
  "language_info": {
   "codemirror_mode": {
    "name": "ipython",
    "version": 2
   },
   "file_extension": ".py",
   "mimetype": "text/x-python",
   "name": "python",
   "nbconvert_exporter": "python",
   "pygments_lexer": "ipython2",
   "version": "2.7.6"
  }
 },
 "nbformat": 4,
 "nbformat_minor": 5
}
